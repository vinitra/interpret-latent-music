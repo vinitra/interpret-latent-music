{
 "cells": [
  {
   "cell_type": "markdown",
   "id": "preliminary-stadium",
   "metadata": {},
   "source": [
    "## Midi Embedding + Initial Genre Analysis\n",
    "\n",
    "This notebook will load the MIDI embeddings from the MidiLakh dataset and perform analysis on the structure of the latent representations.\n",
    "\n",
    "### Imports and Dataset loading"
   ]
  },
  {
   "cell_type": "code",
   "execution_count": 1,
   "id": "mobile-surfing",
   "metadata": {},
   "outputs": [],
   "source": [
    "import pandas as pd\n",
    "import numpy as np\n",
    "from gensim.models import KeyedVectors\n",
    "\n",
    "import sklearn.decomposition  as dec\n",
    "import matplotlib.pyplot as plt\n",
    "import seaborn as sns\n",
    "from collections import Counter\n",
    "\n",
    "import scipy\n",
    "import ipywidgets as widgets\n",
    "from ipywidgets import interact\n",
    "from IPython.display import display\n",
    "\n",
    "import random\n",
    "import wget\n",
    "import os\n",
    "\n",
    "data_path = './data/'\n",
    "\n",
    "\n",
    "# Change if you need to download the embeddings:\n",
    "\n",
    "down_emb = True\n",
    "\n",
    "if down_emb:\n",
    "    wget.download(\"https://zenodo.org/record/5082300/files/lakh_embeddings.zip?download=1\", data_path + \"tmp.zip\")\n",
    "    import zipfile\n",
    "    with zipfile.ZipFile(\"./data/tmp.zip\",\"r\") as zip_ref:\n",
    "        zip_ref.extractall(\"./data/\")"
   ]
  },
  {
   "cell_type": "code",
   "execution_count": 2,
   "id": "sorted-sandwich",
   "metadata": {},
   "outputs": [],
   "source": [
    "df = pd.read_csv(data_path + \"lakh_all_songs_processed.csv\")\n",
    "df_ = pd.read_csv(data_path + \"/lakh/lakh.csv\")\n",
    "df = df_.merge(df, on=\"id\").drop(\"Unnamed: 0\", axis=1)\n",
    "emb = KeyedVectors.load_word2vec_format(data_path + './lakh/lmd.bin')"
   ]
  },
  {
   "cell_type": "code",
   "execution_count": 3,
   "id": "upset-million",
   "metadata": {},
   "outputs": [],
   "source": [
    "ids = [i for i in df.id.tolist() if i in emb]\n",
    "data = np.array([emb[i] for i in ids])"
   ]
  },
  {
   "cell_type": "markdown",
   "id": "requested-lodge",
   "metadata": {},
   "source": [
    "#### Metadata file"
   ]
  },
  {
   "cell_type": "code",
   "execution_count": 4,
   "id": "90591cd0",
   "metadata": {},
   "outputs": [
    {
     "data": {
      "text/html": [
       "<div>\n",
       "<style scoped>\n",
       "    .dataframe tbody tr th:only-of-type {\n",
       "        vertical-align: middle;\n",
       "    }\n",
       "\n",
       "    .dataframe tbody tr th {\n",
       "        vertical-align: top;\n",
       "    }\n",
       "\n",
       "    .dataframe thead th {\n",
       "        text-align: right;\n",
       "    }\n",
       "</style>\n",
       "<table border=\"1\" class=\"dataframe\">\n",
       "  <thead>\n",
       "    <tr style=\"text-align: right;\">\n",
       "      <th></th>\n",
       "      <th>id</th>\n",
       "      <th>file</th>\n",
       "      <th>song_name</th>\n",
       "      <th>album_name</th>\n",
       "      <th>artist_name_x</th>\n",
       "      <th>artist_mb</th>\n",
       "      <th>tag_echo</th>\n",
       "      <th>tag_mbz</th>\n",
       "      <th>year_x</th>\n",
       "      <th>analyzer_version</th>\n",
       "      <th>...</th>\n",
       "      <th>loudness</th>\n",
       "      <th>mode</th>\n",
       "      <th>mode_confidence</th>\n",
       "      <th>start_of_fade_out</th>\n",
       "      <th>tempo</th>\n",
       "      <th>time_signature</th>\n",
       "      <th>time_signature_confidence</th>\n",
       "      <th>track_id</th>\n",
       "      <th>idx_artist_mbtags</th>\n",
       "      <th>year_y</th>\n",
       "    </tr>\n",
       "  </thead>\n",
       "  <tbody>\n",
       "    <tr>\n",
       "      <th>0</th>\n",
       "      <td>TRRRUFD12903CD7092</td>\n",
       "      <td>R/R/U/TRRRUFD12903CD7092/6c460e4c53ab8c0b87f08...</td>\n",
       "      <td>Wastelands</td>\n",
       "      <td>Alien 4</td>\n",
       "      <td>Hawkwind</td>\n",
       "      <td>5a28f8c2-31fb-4047-ae57-c5c326989262</td>\n",
       "      <td>space rock</td>\n",
       "      <td>british</td>\n",
       "      <td>1994</td>\n",
       "      <td>NaN</td>\n",
       "      <td>...</td>\n",
       "      <td>-21.428</td>\n",
       "      <td>0</td>\n",
       "      <td>0.719</td>\n",
       "      <td>83.800</td>\n",
       "      <td>159.900</td>\n",
       "      <td>4</td>\n",
       "      <td>1.000</td>\n",
       "      <td>TRRRUFD12903CD7092</td>\n",
       "      <td>0</td>\n",
       "      <td>1994</td>\n",
       "    </tr>\n",
       "    <tr>\n",
       "      <th>1</th>\n",
       "      <td>TRRRUTV12903CEA11B</td>\n",
       "      <td>R/R/U/TRRRUTV12903CEA11B/a8a167f3ab4d81560b650...</td>\n",
       "      <td>Runaway</td>\n",
       "      <td>Songs of Del Shannon</td>\n",
       "      <td>Del Shannon</td>\n",
       "      <td>2e885bfb-1f59-49cf-8d51-e743445e1b48</td>\n",
       "      <td>ballad</td>\n",
       "      <td>classic pop and rock</td>\n",
       "      <td>1961</td>\n",
       "      <td>NaN</td>\n",
       "      <td>...</td>\n",
       "      <td>-8.870</td>\n",
       "      <td>1</td>\n",
       "      <td>0.428</td>\n",
       "      <td>132.807</td>\n",
       "      <td>150.742</td>\n",
       "      <td>4</td>\n",
       "      <td>0.603</td>\n",
       "      <td>TRRRUTV12903CEA11B</td>\n",
       "      <td>0</td>\n",
       "      <td>1961</td>\n",
       "    </tr>\n",
       "    <tr>\n",
       "      <th>2</th>\n",
       "      <td>TRRRUJO128E07813E7</td>\n",
       "      <td>R/R/U/TRRRUJO128E07813E7/ed75fd62360e499037c03...</td>\n",
       "      <td>Have You Met Miss Jones? (Swing When Version)</td>\n",
       "      <td>Swing When You're Winning</td>\n",
       "      <td>Robbie Williams</td>\n",
       "      <td>db4624cf-0e44-481e-a9dc-2142b833ec2f</td>\n",
       "      <td>british pop</td>\n",
       "      <td>pop</td>\n",
       "      <td>2001</td>\n",
       "      <td>NaN</td>\n",
       "      <td>...</td>\n",
       "      <td>-7.697</td>\n",
       "      <td>0</td>\n",
       "      <td>0.457</td>\n",
       "      <td>149.780</td>\n",
       "      <td>122.761</td>\n",
       "      <td>4</td>\n",
       "      <td>0.464</td>\n",
       "      <td>TRRRUJO128E07813E7</td>\n",
       "      <td>0</td>\n",
       "      <td>2001</td>\n",
       "    </tr>\n",
       "    <tr>\n",
       "      <th>3</th>\n",
       "      <td>TRRRIYO128F428CF6F</td>\n",
       "      <td>R/R/I/TRRRIYO128F428CF6F/c8e58336ab243fc07c966...</td>\n",
       "      <td>Goodbye</td>\n",
       "      <td>Bittersweet</td>\n",
       "      <td>Volebeats</td>\n",
       "      <td>eb567c55-368d-4b85-b969-ca9e3252f9cb</td>\n",
       "      <td>alternative country</td>\n",
       "      <td>NaN</td>\n",
       "      <td>0</td>\n",
       "      <td>NaN</td>\n",
       "      <td>...</td>\n",
       "      <td>-12.152</td>\n",
       "      <td>1</td>\n",
       "      <td>0.833</td>\n",
       "      <td>274.367</td>\n",
       "      <td>110.020</td>\n",
       "      <td>3</td>\n",
       "      <td>0.761</td>\n",
       "      <td>TRRRIYO128F428CF6F</td>\n",
       "      <td>0</td>\n",
       "      <td>0</td>\n",
       "    </tr>\n",
       "    <tr>\n",
       "      <th>4</th>\n",
       "      <td>TRRRILO128F422FFED</td>\n",
       "      <td>R/R/I/TRRRILO128F422FFED/0ec315d7be357f130de52...</td>\n",
       "      <td>La Colegiala</td>\n",
       "      <td>Musica Tropical De Colombia 5</td>\n",
       "      <td>Rodolfo Y Su Tipica Ra7</td>\n",
       "      <td>ead8d6d9-e58b-4dd8-916f-cf7f359db38e</td>\n",
       "      <td>cumbia</td>\n",
       "      <td>NaN</td>\n",
       "      <td>1997</td>\n",
       "      <td>NaN</td>\n",
       "      <td>...</td>\n",
       "      <td>-9.604</td>\n",
       "      <td>1</td>\n",
       "      <td>0.606</td>\n",
       "      <td>214.767</td>\n",
       "      <td>117.362</td>\n",
       "      <td>4</td>\n",
       "      <td>0.901</td>\n",
       "      <td>TRRRILO128F422FFED</td>\n",
       "      <td>0</td>\n",
       "      <td>1997</td>\n",
       "    </tr>\n",
       "  </tbody>\n",
       "</table>\n",
       "<p>5 rows × 62 columns</p>\n",
       "</div>"
      ],
      "text/plain": [
       "                   id                                               file  \\\n",
       "0  TRRRUFD12903CD7092  R/R/U/TRRRUFD12903CD7092/6c460e4c53ab8c0b87f08...   \n",
       "1  TRRRUTV12903CEA11B  R/R/U/TRRRUTV12903CEA11B/a8a167f3ab4d81560b650...   \n",
       "2  TRRRUJO128E07813E7  R/R/U/TRRRUJO128E07813E7/ed75fd62360e499037c03...   \n",
       "3  TRRRIYO128F428CF6F  R/R/I/TRRRIYO128F428CF6F/c8e58336ab243fc07c966...   \n",
       "4  TRRRILO128F422FFED  R/R/I/TRRRILO128F422FFED/0ec315d7be357f130de52...   \n",
       "\n",
       "                                       song_name  \\\n",
       "0                                     Wastelands   \n",
       "1                                        Runaway   \n",
       "2  Have You Met Miss Jones? (Swing When Version)   \n",
       "3                                        Goodbye   \n",
       "4                                   La Colegiala   \n",
       "\n",
       "                      album_name            artist_name_x  \\\n",
       "0                        Alien 4                 Hawkwind   \n",
       "1           Songs of Del Shannon              Del Shannon   \n",
       "2      Swing When You're Winning          Robbie Williams   \n",
       "3                    Bittersweet                Volebeats   \n",
       "4  Musica Tropical De Colombia 5  Rodolfo Y Su Tipica Ra7   \n",
       "\n",
       "                              artist_mb             tag_echo  \\\n",
       "0  5a28f8c2-31fb-4047-ae57-c5c326989262           space rock   \n",
       "1  2e885bfb-1f59-49cf-8d51-e743445e1b48               ballad   \n",
       "2  db4624cf-0e44-481e-a9dc-2142b833ec2f          british pop   \n",
       "3  eb567c55-368d-4b85-b969-ca9e3252f9cb  alternative country   \n",
       "4  ead8d6d9-e58b-4dd8-916f-cf7f359db38e               cumbia   \n",
       "\n",
       "                tag_mbz  year_x  analyzer_version  ...  loudness  mode  \\\n",
       "0               british    1994               NaN  ...   -21.428     0   \n",
       "1  classic pop and rock    1961               NaN  ...    -8.870     1   \n",
       "2                   pop    2001               NaN  ...    -7.697     0   \n",
       "3                   NaN       0               NaN  ...   -12.152     1   \n",
       "4                   NaN    1997               NaN  ...    -9.604     1   \n",
       "\n",
       "   mode_confidence start_of_fade_out    tempo time_signature  \\\n",
       "0            0.719            83.800  159.900              4   \n",
       "1            0.428           132.807  150.742              4   \n",
       "2            0.457           149.780  122.761              4   \n",
       "3            0.833           274.367  110.020              3   \n",
       "4            0.606           214.767  117.362              4   \n",
       "\n",
       "   time_signature_confidence            track_id idx_artist_mbtags  year_y  \n",
       "0                      1.000  TRRRUFD12903CD7092                 0    1994  \n",
       "1                      0.603  TRRRUTV12903CEA11B                 0    1961  \n",
       "2                      0.464  TRRRUJO128E07813E7                 0    2001  \n",
       "3                      0.761  TRRRIYO128F428CF6F                 0       0  \n",
       "4                      0.901  TRRRILO128F422FFED                 0    1997  \n",
       "\n",
       "[5 rows x 62 columns]"
      ]
     },
     "execution_count": 4,
     "metadata": {},
     "output_type": "execute_result"
    }
   ],
   "source": [
    "df.head()"
   ]
  },
  {
   "cell_type": "markdown",
   "id": "adjacent-bench",
   "metadata": {},
   "source": [
    "#### Embedding file"
   ]
  },
  {
   "cell_type": "code",
   "execution_count": 5,
   "id": "premium-refrigerator",
   "metadata": {},
   "outputs": [
    {
     "data": {
      "text/plain": [
       "array([-1.8443432e-01,  6.4225338e-02,  2.2557946e-01,  2.3294510e-01,\n",
       "       -4.8060566e-03, -2.4110529e-01, -9.8117307e-02,  1.9202682e-01,\n",
       "        9.3585521e-02,  1.5604047e-01, -1.2695704e-01, -3.4721681e-01,\n",
       "        1.7937580e-01,  6.3882601e-01, -2.7144471e-01,  3.8048795e-01,\n",
       "        8.8833041e-02,  7.7679120e-02,  4.1888651e-02, -8.9360720e-01,\n",
       "        2.1103244e-01, -2.6712686e-01, -2.6881331e-01,  4.8260829e-01,\n",
       "       -3.7794399e-01,  3.0959979e-01,  7.2386764e-02, -1.1859800e-01,\n",
       "       -5.6240689e-02, -9.2752993e-02, -7.8732587e-02, -1.9664824e-01,\n",
       "        7.2627582e-02,  3.5716689e-01,  1.9424279e-01,  4.8798272e-01,\n",
       "       -6.9760847e-01, -6.3095197e-02, -2.0825563e-02, -5.0930041e-01,\n",
       "        4.8014611e-01, -2.6110387e-01, -5.9381362e-02,  2.5094286e-01,\n",
       "        4.9810946e-01, -3.8085658e-02,  5.2954251e-01, -1.7717047e-01,\n",
       "        4.8932469e-01,  4.3615788e-01, -4.6164274e-01,  1.2686481e-03,\n",
       "        3.1576183e-02,  9.0506889e-02, -7.6077268e-02, -8.5308088e-04,\n",
       "       -1.5457298e-01,  3.0273357e-01, -3.4921592e-01, -4.7521171e-01,\n",
       "       -3.3206618e-01,  1.2129346e-01,  8.7456897e-02, -8.4691279e-02,\n",
       "        1.2754691e-01, -1.8019240e-01, -5.3317153e-01, -4.3835929e-01,\n",
       "       -1.4869738e-01,  2.3380319e-02, -2.3416345e-01, -3.4984031e-01,\n",
       "       -1.8641742e-01, -3.0841121e-01, -4.5008972e-01,  9.5779076e-02,\n",
       "        3.7254429e-01,  3.7392384e-01,  6.9814599e-01, -4.7354776e-02,\n",
       "       -1.4237614e-01, -4.9819669e-01,  2.5642064e-01,  2.3139818e-01,\n",
       "        7.6113887e-02, -3.3112857e-01, -6.3479263e-01, -4.0479568e-01,\n",
       "        6.1892438e-01, -6.0566589e-02,  3.1636515e-01,  2.8353473e-02,\n",
       "        4.8388728e-01,  3.6561301e-01, -4.9611673e-01,  6.8662778e-02,\n",
       "        2.0394287e-01,  2.2484209e-01,  2.3650014e-01, -5.4456741e-01],\n",
       "      dtype=float32)"
      ]
     },
     "execution_count": 5,
     "metadata": {},
     "output_type": "execute_result"
    }
   ],
   "source": [
    "# Let's look at the first embedding.\n",
    "\n",
    "emb['TRAAAGR128F425B14B']"
   ]
  },
  {
   "cell_type": "markdown",
   "id": "binary-positive",
   "metadata": {},
   "source": [
    "#### Tags for songs"
   ]
  },
  {
   "cell_type": "code",
   "execution_count": 6,
   "id": "secondary-fault",
   "metadata": {},
   "outputs": [
    {
     "data": {
      "text/plain": [
       "{'2 tone',\n",
       " '8-bit',\n",
       " '80s country',\n",
       " 'acid jazz',\n",
       " 'acoustic',\n",
       " 'adult contemporary',\n",
       " 'africa',\n",
       " 'afrobeat',\n",
       " 'all-female',\n",
       " 'alternative',\n",
       " 'alternative country',\n",
       " 'alternative dance',\n",
       " 'alternative hip hop',\n",
       " 'alternative metal',\n",
       " 'alternative pop',\n",
       " 'alternative rock',\n",
       " 'americana',\n",
       " 'arabesque',\n",
       " 'art rock',\n",
       " 'avantgarde metal',\n",
       " 'bachata',\n",
       " 'baile funk',\n",
       " 'ballad',\n",
       " 'ballet',\n",
       " 'banda',\n",
       " 'baroque music',\n",
       " 'bass',\n",
       " 'bass music',\n",
       " 'batucada',\n",
       " 'beat',\n",
       " 'beatboxing',\n",
       " 'bebop',\n",
       " 'bel canto',\n",
       " 'belgium',\n",
       " 'bhangra',\n",
       " 'big beat',\n",
       " 'black metal',\n",
       " 'blackened death metal',\n",
       " 'blue-eyed soul',\n",
       " 'bluegrass',\n",
       " 'blues',\n",
       " 'blues-rock',\n",
       " 'bolero',\n",
       " 'boogaloo',\n",
       " 'bossa nova',\n",
       " 'boy band',\n",
       " 'brass band',\n",
       " 'brazilian jazz',\n",
       " 'brazilian pop music',\n",
       " 'breakbeat',\n",
       " 'breakcore',\n",
       " 'brill building pop',\n",
       " 'british blues',\n",
       " 'british invasion',\n",
       " 'british pop',\n",
       " 'broken beat',\n",
       " 'brutal death metal',\n",
       " 'bubblegum dance',\n",
       " 'bubblegum pop',\n",
       " 'buddamat',\n",
       " 'bulerias',\n",
       " 'cabaret',\n",
       " 'california',\n",
       " 'calypso',\n",
       " 'canterbury scene',\n",
       " 'canto nuevo',\n",
       " 'cantonese pop',\n",
       " 'ccm',\n",
       " 'celtic',\n",
       " 'celtic fusion',\n",
       " 'celtic rock',\n",
       " 'chamber jazz',\n",
       " 'chamber music',\n",
       " 'chamber pop',\n",
       " 'chanson',\n",
       " 'chanson francaise',\n",
       " 'chant',\n",
       " 'chicago blues',\n",
       " 'chicago house',\n",
       " 'chicago soul',\n",
       " 'chill-out',\n",
       " 'chinese music',\n",
       " 'chiptune',\n",
       " 'choral music',\n",
       " 'choro',\n",
       " 'chorus',\n",
       " 'christian hardcore',\n",
       " 'christian metal',\n",
       " 'christian music',\n",
       " 'christian punk',\n",
       " 'christian rock',\n",
       " 'christmas music',\n",
       " 'classic',\n",
       " 'classic country',\n",
       " 'classic female blues',\n",
       " 'classic rock',\n",
       " 'classical',\n",
       " 'close harmony',\n",
       " 'club',\n",
       " 'comedy',\n",
       " 'comedy rap',\n",
       " 'comedy rock',\n",
       " 'concerto',\n",
       " 'cool jazz',\n",
       " 'country',\n",
       " 'country blues',\n",
       " 'country gospel',\n",
       " 'country music',\n",
       " 'country rock',\n",
       " 'cowpunk',\n",
       " 'crunk',\n",
       " 'crust punk',\n",
       " 'cumbia',\n",
       " 'dance',\n",
       " 'dance music',\n",
       " 'dance pop',\n",
       " 'dance rock',\n",
       " 'dance-punk',\n",
       " 'dancehall',\n",
       " 'dark ambient',\n",
       " 'dark cabaret',\n",
       " 'dark pop',\n",
       " 'dark wave',\n",
       " 'death core',\n",
       " 'death metal',\n",
       " 'deathrock',\n",
       " 'deep house',\n",
       " 'delta blues',\n",
       " 'detroit techno',\n",
       " 'deutschsprachig',\n",
       " 'dirty rap',\n",
       " 'dirty south rap',\n",
       " 'disco',\n",
       " 'disco house',\n",
       " 'disco polo',\n",
       " 'doo-wop',\n",
       " 'doom metal',\n",
       " 'downtempo',\n",
       " 'dream pop',\n",
       " 'drum and bass',\n",
       " 'dub',\n",
       " 'dubstep',\n",
       " 'duet',\n",
       " 'dutch',\n",
       " 'early music',\n",
       " 'easy listening',\n",
       " 'electric blues',\n",
       " 'electro',\n",
       " 'electro hip hop',\n",
       " 'electro rock',\n",
       " 'electro-industrial',\n",
       " 'electroclash',\n",
       " 'electronic',\n",
       " 'electronic music',\n",
       " 'electronica',\n",
       " 'electropop',\n",
       " 'emo',\n",
       " 'england',\n",
       " 'eurobeat',\n",
       " 'eurodance',\n",
       " 'europop',\n",
       " 'exotica',\n",
       " 'experimental rock',\n",
       " 'fado',\n",
       " 'female vocalist',\n",
       " 'filk',\n",
       " 'finish',\n",
       " 'flamenco',\n",
       " 'folk',\n",
       " 'folk metal',\n",
       " 'folk punk',\n",
       " 'folk rock',\n",
       " 'folk-pop',\n",
       " 'folktronica',\n",
       " 'freak folk',\n",
       " 'freakbeat',\n",
       " 'free',\n",
       " 'free improvisation',\n",
       " 'free jazz',\n",
       " 'free music',\n",
       " 'freestyle',\n",
       " 'french',\n",
       " 'french pop',\n",
       " 'frevo',\n",
       " 'funeral doom',\n",
       " 'funk',\n",
       " 'funk metal',\n",
       " 'funk rock',\n",
       " 'funky house',\n",
       " 'fusion',\n",
       " 'future jazz',\n",
       " 'futurepop',\n",
       " 'g funk',\n",
       " 'gabba',\n",
       " 'gagaku',\n",
       " 'game',\n",
       " 'gangster rap',\n",
       " 'garage',\n",
       " 'garage punk',\n",
       " 'garage rock',\n",
       " 'german',\n",
       " 'german pop',\n",
       " 'ghetto tech',\n",
       " 'glam metal',\n",
       " 'glam rock',\n",
       " 'glitch',\n",
       " 'goa',\n",
       " 'goregrind',\n",
       " 'gospel',\n",
       " 'gothic',\n",
       " 'gothic metal',\n",
       " 'gothic rock',\n",
       " 'greek',\n",
       " 'grime',\n",
       " 'grindcore',\n",
       " 'groove metal',\n",
       " 'grunge',\n",
       " 'guitar',\n",
       " 'happy hardcore',\n",
       " 'hard bop',\n",
       " 'hard house',\n",
       " 'hard rock',\n",
       " 'hard trance',\n",
       " 'hardcore punk',\n",
       " 'hardcore rap',\n",
       " 'hardcore techno',\n",
       " 'hardstyle',\n",
       " 'harmonica blues',\n",
       " 'heartland rock',\n",
       " 'heavy metal',\n",
       " 'hip hop',\n",
       " 'hip house',\n",
       " 'hip pop',\n",
       " 'honky tonk',\n",
       " 'horror punk',\n",
       " 'house',\n",
       " 'humppa',\n",
       " 'hyphy',\n",
       " 'illbient',\n",
       " 'improvisational',\n",
       " 'indian classical',\n",
       " 'indie',\n",
       " 'indie pop',\n",
       " 'indie rock',\n",
       " 'indietronica',\n",
       " 'industrial dance',\n",
       " 'industrial metal',\n",
       " 'industrial rock',\n",
       " 'instrumental',\n",
       " 'instrumental pop',\n",
       " 'instrumental rock',\n",
       " 'intelligent dance music',\n",
       " 'irish',\n",
       " 'irish folk',\n",
       " 'island music',\n",
       " 'italian disco',\n",
       " 'italian pop',\n",
       " 'j pop',\n",
       " 'jam band',\n",
       " 'jangle pop',\n",
       " 'japanese',\n",
       " 'jazz',\n",
       " 'jazz funk',\n",
       " 'jazz fusion',\n",
       " 'jazz rap',\n",
       " 'jive',\n",
       " 'jrock',\n",
       " 'jug band',\n",
       " 'jump blues',\n",
       " 'jungle music',\n",
       " 'karaoke',\n",
       " 'kizomba',\n",
       " 'klezmer',\n",
       " 'kraut rock',\n",
       " 'lambada',\n",
       " 'latin',\n",
       " 'latin jazz',\n",
       " 'latin pop',\n",
       " 'los angeles',\n",
       " 'louisiana blues',\n",
       " 'lovers rock',\n",
       " 'lullaby',\n",
       " 'madchester',\n",
       " 'male vocalist',\n",
       " 'mambo',\n",
       " 'manouche',\n",
       " 'mariachi',\n",
       " 'marimba',\n",
       " 'martial industrial',\n",
       " 'massachusetts',\n",
       " 'math rock',\n",
       " 'math-core',\n",
       " 'mbalax',\n",
       " 'mbaqanga',\n",
       " 'meditation',\n",
       " 'melbourne',\n",
       " 'melodic black metal',\n",
       " 'melodic death metal',\n",
       " 'melodic hardcore',\n",
       " 'melodic metalcore',\n",
       " 'melodic trance',\n",
       " 'memphis soul',\n",
       " 'merengue',\n",
       " 'merseybeat',\n",
       " 'metalcore',\n",
       " 'mexico',\n",
       " 'minimal',\n",
       " 'minnesota',\n",
       " 'modern laika',\n",
       " 'modern rock',\n",
       " 'motown',\n",
       " 'motown and soul',\n",
       " 'murga',\n",
       " 'musette',\n",
       " 'musical theater',\n",
       " nan,\n",
       " 'nederpop',\n",
       " 'neo classical metal',\n",
       " 'neo soul',\n",
       " 'neo-progressive',\n",
       " 'neoclassical',\n",
       " 'neofolk',\n",
       " 'neue deutsche welle',\n",
       " 'new age',\n",
       " 'new beat',\n",
       " 'new jack swing',\n",
       " 'new orleans blues',\n",
       " 'new rave',\n",
       " 'new romantic',\n",
       " 'new wave',\n",
       " 'new weird america',\n",
       " 'newgrass',\n",
       " 'no wave',\n",
       " 'noise pop',\n",
       " 'noise rock',\n",
       " 'northern soul',\n",
       " 'nu breaks',\n",
       " 'nu jazz',\n",
       " 'nu metal',\n",
       " 'oi',\n",
       " 'old school hip hop',\n",
       " 'oldies',\n",
       " 'opera',\n",
       " 'orchestra',\n",
       " 'oriental metal',\n",
       " 'outlaw country',\n",
       " 'paisley underground',\n",
       " 'parody',\n",
       " 'patriotic',\n",
       " 'piano',\n",
       " 'piano blues',\n",
       " 'piano rock',\n",
       " 'pinoy rock',\n",
       " 'poland',\n",
       " 'polka',\n",
       " 'pop',\n",
       " 'pop folk',\n",
       " 'pop punk',\n",
       " 'pop rap',\n",
       " 'pop rock',\n",
       " 'portugal',\n",
       " 'portugese',\n",
       " 'post rock',\n",
       " 'post-grunge',\n",
       " 'post-hardcore',\n",
       " 'power electronics',\n",
       " 'power metal',\n",
       " 'power pop',\n",
       " 'power violence',\n",
       " 'progressive bluegrass',\n",
       " 'progressive house',\n",
       " 'progressive metal',\n",
       " 'progressive rock',\n",
       " 'progressive trance',\n",
       " 'protopunk',\n",
       " 'psychedelic pop',\n",
       " 'psychedelic rock',\n",
       " 'psychedelic trance',\n",
       " 'psychobilly',\n",
       " 'punk',\n",
       " 'qawwali',\n",
       " 'quebec',\n",
       " 'queercore',\n",
       " 'quiet storm',\n",
       " 'r&b',\n",
       " 'ragtime',\n",
       " 'rai',\n",
       " 'ranchera',\n",
       " 'rap',\n",
       " 'rap metal',\n",
       " 'rap rock',\n",
       " 'rapcore',\n",
       " 'rave',\n",
       " 'reggae',\n",
       " 'reggaeton',\n",
       " 'relax',\n",
       " 'religious music',\n",
       " 'remix',\n",
       " 'renaissance',\n",
       " 'requiem',\n",
       " 'rhythm noise',\n",
       " 'riot grrrl',\n",
       " 'rock',\n",
       " \"rock 'n roll\",\n",
       " 'rock steady',\n",
       " 'rockabilly',\n",
       " 'roots reggae',\n",
       " 'roots rock',\n",
       " 'rumba',\n",
       " 'sadcore',\n",
       " 'salsa',\n",
       " 'samba',\n",
       " 'scottish',\n",
       " 'screamo',\n",
       " 'serialism',\n",
       " 'sexy',\n",
       " 'shock rock',\n",
       " 'shoegaze',\n",
       " 'show tunes',\n",
       " 'singer',\n",
       " 'singer-songwriter',\n",
       " 'ska',\n",
       " 'ska punk',\n",
       " 'slow core',\n",
       " 'smooth jazz',\n",
       " 'soca',\n",
       " 'soft rock',\n",
       " 'sonata',\n",
       " 'song writer',\n",
       " 'soukous',\n",
       " 'soul',\n",
       " 'soul blues',\n",
       " 'soul jazz',\n",
       " 'soul music',\n",
       " 'soundtrack',\n",
       " 'southern gospel',\n",
       " 'southern rock',\n",
       " 'southern soul',\n",
       " 'space age pop',\n",
       " 'space music',\n",
       " 'space rock',\n",
       " 'space synth',\n",
       " 'spanish',\n",
       " 'spanish pop',\n",
       " 'speed garage',\n",
       " 'speed metal',\n",
       " 'speedcore',\n",
       " 'spoken word',\n",
       " 'stand-up comedy',\n",
       " 'stoner metal',\n",
       " 'stoner rock',\n",
       " 'straight edge',\n",
       " 'stride',\n",
       " 'string',\n",
       " 'string quartet',\n",
       " 'suomi rock',\n",
       " 'surf music',\n",
       " 'swamp rock',\n",
       " 'sweden',\n",
       " 'swedish',\n",
       " 'swiss',\n",
       " 'sympho black metal',\n",
       " 'symphonic metal',\n",
       " 'symphonic rock',\n",
       " 'symphony',\n",
       " 'synth punk',\n",
       " 'synthpop',\n",
       " 'tango',\n",
       " 'tech house',\n",
       " 'tech trance',\n",
       " 'techno',\n",
       " 'teen pop',\n",
       " 'tejano',\n",
       " 'tex mex',\n",
       " 'texas',\n",
       " 'texas blues',\n",
       " 'thrash metal',\n",
       " 'traditional pop',\n",
       " 'trance',\n",
       " 'tribal house',\n",
       " 'trip hop',\n",
       " 'trip rock',\n",
       " 'turnablism',\n",
       " 'twee pop',\n",
       " 'uk garage',\n",
       " 'underground rap',\n",
       " 'uplifting',\n",
       " 'urban folk',\n",
       " 'vallenato',\n",
       " 'video game music',\n",
       " 'viking metal',\n",
       " 'visual kei',\n",
       " 'vocal',\n",
       " 'vocal house',\n",
       " 'vocal jazz',\n",
       " 'waltz',\n",
       " 'western swing',\n",
       " 'world',\n",
       " 'world beat',\n",
       " 'world fusion',\n",
       " 'world music',\n",
       " 'yodel',\n",
       " 'zeuhl',\n",
       " 'zouk',\n",
       " 'zydeco'}"
      ]
     },
     "execution_count": 6,
     "metadata": {},
     "output_type": "execute_result"
    }
   ],
   "source": [
    "# What genres are available to analyze? \n",
    "\n",
    "set(df.tag_echo)"
   ]
  },
  {
   "cell_type": "code",
   "execution_count": 7,
   "id": "60850e6f",
   "metadata": {},
   "outputs": [
    {
     "data": {
      "text/plain": [
       "505"
      ]
     },
     "execution_count": 7,
     "metadata": {},
     "output_type": "execute_result"
    }
   ],
   "source": [
    "# How many unique genres are there?\n",
    "\n",
    "len(set(df.tag_echo))"
   ]
  },
  {
   "cell_type": "markdown",
   "id": "quiet-profit",
   "metadata": {},
   "source": [
    "### Mapping labels to embeddings"
   ]
  },
  {
   "cell_type": "code",
   "execution_count": 8,
   "id": "finished-projection",
   "metadata": {},
   "outputs": [],
   "source": [
    "dict_ids = {}\n",
    "for k in set(df.tag_echo): \n",
    "    dict_ids[k] = df.loc[df.tag_echo == k, \"id\"].values"
   ]
  },
  {
   "cell_type": "code",
   "execution_count": 9,
   "id": "broken-blake",
   "metadata": {},
   "outputs": [
    {
     "name": "stdout",
     "output_type": "stream",
     "text": [
      "Mistakes: 58\n"
     ]
    }
   ],
   "source": [
    "acc_matrix = []\n",
    "acc_label = []\n",
    "acc_ids = []\n",
    "counter = 0\n",
    "\n",
    "for label, ids in dict_ids.items():\n",
    "    for id_ in ids: \n",
    "        try:\n",
    "            emb[id_]\n",
    "            acc_ids.append(id_)\n",
    "            acc_matrix.append(emb[id_])\n",
    "            acc_label.append(label)\n",
    "        except:\n",
    "            counter += 1\n",
    "print(\"Mistakes:\", counter)\n",
    "matrix = np.stack(acc_matrix)\n",
    "labels = np.array(acc_label)"
   ]
  },
  {
   "cell_type": "markdown",
   "id": "regional-silver",
   "metadata": {},
   "source": [
    "### PCA analysis \n",
    "\n",
    "Let's map the embeddings down to 2 dimensions using PCA, so we can visualize them."
   ]
  },
  {
   "cell_type": "code",
   "execution_count": 10,
   "id": "polished-kernel",
   "metadata": {},
   "outputs": [],
   "source": [
    "model = dec.PCA(2)\n",
    "matrix_red = model.fit_transform(matrix)"
   ]
  },
  {
   "cell_type": "markdown",
   "id": "spectacular-guess",
   "metadata": {},
   "source": [
    "#### Plotting centroids of 50 most common genres"
   ]
  },
  {
   "cell_type": "code",
   "execution_count": 11,
   "id": "numerous-brunei",
   "metadata": {},
   "outputs": [
    {
     "data": {
      "image/png": "[encoded data removed]",
      "text/plain": [
       "<Figure size 864x720 with 1 Axes>"
      ]
     },
     "metadata": {
      "needs_background": "light"
     },
     "output_type": "display_data"
    }
   ],
   "source": [
    "fig, axs = plt.subplots(1, 1, figsize=(12,10))\n",
    "most_common = Counter(labels).most_common(50)\n",
    "\n",
    "for k, _ in most_common:\n",
    "    x = matrix_red[labels == k, 0].mean()\n",
    "    y = matrix_red[labels == k, 1].mean()\n",
    "    axs.scatter(x, y, label=k)\n",
    "    axs.text(x + 0.002, y + 0.002, s=k, ha=\"left\")\n",
    "    \n",
    "plt.show()"
   ]
  },
  {
   "cell_type": "markdown",
   "id": "valid-philadelphia",
   "metadata": {},
   "source": [
    "### Plotting all songs from genres\n",
    "\n",
    "Now, let's look at a case study of some interesting genres. Notably, we see trance (far right), rock (top middle) and opera (far left) are quite far from each other on the centroid graph.\n",
    "\n",
    "We want to individually plot the songs in our dataset to identify the relationships between these genres."
   ]
  },
  {
   "cell_type": "code",
   "execution_count": 12,
   "id": "consistent-thing",
   "metadata": {},
   "outputs": [
    {
     "data": {
      "text/plain": [
       "<matplotlib.collections.PathCollection at 0x7f944d8992e0>"
      ]
     },
     "execution_count": 12,
     "metadata": {},
     "output_type": "execute_result"
    },
    {
     "data": {
      "image/png": "[encoded data removed]",
      "text/plain": [
       "<Figure size 432x288 with 1 Axes>"
      ]
     },
     "metadata": {
      "needs_background": "light"
     },
     "output_type": "display_data"
    }
   ],
   "source": [
    "plt.scatter(matrix_red[labels == \"trance\", 0], matrix_red[labels == \"trance\", 1])\n",
    "plt.scatter(matrix_red[labels == \"rock\", 0], matrix_red[labels == \"rock\", 1])\n",
    "plt.scatter(matrix_red[labels == \"opera\", 0], matrix_red[labels == \"opera\", 1])"
   ]
  },
  {
   "cell_type": "code",
   "execution_count": 13,
   "id": "meaningful-party",
   "metadata": {},
   "outputs": [
    {
     "data": {
      "text/plain": [
       "<matplotlib.collections.PathCollection at 0x7f944d8f4580>"
      ]
     },
     "execution_count": 13,
     "metadata": {},
     "output_type": "execute_result"
    },
    {
     "data": {
      "image/png": "[encoded data removed]",
      "text/plain": [
       "<Figure size 432x288 with 1 Axes>"
      ]
     },
     "metadata": {
      "needs_background": "light"
     },
     "output_type": "display_data"
    }
   ],
   "source": [
    "plt.scatter(matrix_red[labels == \"trance\", 0], matrix_red[labels == \"trance\", 1])\n",
    "plt.scatter(matrix_red[labels == \"opera\", 0], matrix_red[labels == \"opera\", 1])"
   ]
  },
  {
   "cell_type": "markdown",
   "id": "583cad80",
   "metadata": {},
   "source": [
    "# Distances between genres\n",
    "\n",
    "To examine the relationships between any two genres of our choice, we propose the following strategies.\n",
    "\n",
    "1. Plotting the distance between 2 selected genres through PCA\n",
    "2. Cosine similarity between the average vector for the points in a genre\n",
    "\n",
    "The reason we use average vectors for Cosine Similarity is because the number of songs for each genre differ. To address this problem, we then look at a sample of 100 songs from each genre, and compute distance between the distributions using the Wasserstein metric.\n",
    "\n",
    "3. Wasserstein distance between the music vectors"
   ]
  },
  {
   "cell_type": "code",
   "execution_count": 14,
   "id": "dd6b4d0c",
   "metadata": {},
   "outputs": [],
   "source": [
    "# Select the genres\n",
    "genres_50 = dict(most_common).keys()\n",
    "\n",
    "genre_1 = widgets.Dropdown(\n",
    "    options=genres_50,\n",
    "    value='hip hop',\n",
    "    description='Genre 1:',\n",
    "    disabled=True\n",
    ")\n",
    "\n",
    "genre_2 = widgets.Dropdown(\n",
    "    options=genres_50,\n",
    "    value='country',\n",
    "    description='Genre 2:',\n",
    "    disabled=True\n",
    ")\n",
    "\n",
    "# temporary workaround\n",
    "genre_1 = 'hip hop'\n",
    "genre_2 = 'country'"
   ]
  },
  {
   "cell_type": "code",
   "execution_count": 15,
   "id": "20a250f4",
   "metadata": {},
   "outputs": [
    {
     "data": {
      "text/plain": [
       "<matplotlib.collections.PathCollection at 0x7f9450c97af0>"
      ]
     },
     "execution_count": 15,
     "metadata": {},
     "output_type": "execute_result"
    },
    {
     "data": {
      "image/png": "[encoded data removed]",
      "text/plain": [
       "<Figure size 432x288 with 1 Axes>"
      ]
     },
     "metadata": {
      "needs_background": "light"
     },
     "output_type": "display_data"
    }
   ],
   "source": [
    "# Plot the genres\n",
    "plt.scatter(matrix_red[labels == genre_1, 0], matrix_red[labels == genre_1, 1])\n",
    "plt.scatter(matrix_red[labels == genre_2, 0], matrix_red[labels == genre_2, 1])"
   ]
  },
  {
   "cell_type": "code",
   "execution_count": 16,
   "id": "e0e74ea1",
   "metadata": {},
   "outputs": [
    {
     "data": {
      "text/plain": [
       "0.0586"
      ]
     },
     "execution_count": 16,
     "metadata": {},
     "output_type": "execute_result"
    }
   ],
   "source": [
    "avg_genre_1 = np.mean(matrix[labels == genre_1], axis=0)\n",
    "avg_genre_2 = np.mean(matrix[labels == genre_2], axis=0)\n",
    "\n",
    "np.round(scipy.spatial.distance.cosine(avg_genre_1, avg_genre_2), 4)"
   ]
  },
  {
   "cell_type": "code",
   "execution_count": 17,
   "id": "d3346823",
   "metadata": {},
   "outputs": [
    {
     "data": {
      "text/plain": [
       "0.0099"
      ]
     },
     "execution_count": 17,
     "metadata": {},
     "output_type": "execute_result"
    }
   ],
   "source": [
    "# Representative sample of 100 points\n",
    "genre_1_sample = np.array(random.sample(list(matrix[labels == genre_1]), 100)).reshape(-1)\n",
    "genre_2_sample = np.array(random.sample(list(matrix[labels == genre_2]), 100)).reshape(-1)\n",
    "\n",
    "np.round(scipy.stats.wasserstein_distance(genre_1_sample, genre_2_sample), 4)"
   ]
  },
  {
   "cell_type": "markdown",
   "id": "6b724844",
   "metadata": {},
   "source": [
    "## Genre Analysis\n",
    "\n",
    "Looking at one specific genre, how can we identify which genres are closest and which are furthest away?\n",
    "\n",
    "We use our sample of 50 most common genres (with over 100 songs each) for fair comparisons with known song genres."
   ]
  },
  {
   "cell_type": "code",
   "execution_count": 18,
   "id": "1d349085",
   "metadata": {},
   "outputs": [],
   "source": [
    "genre = widgets.Dropdown(\n",
    "    options=dict(most_common).keys(),\n",
    "    value='hip hop',\n",
    "    description='Genre:',\n",
    "    disabled=True\n",
    ")\n",
    "\n",
    "# Workaround\n",
    "genre = 'hip hop'"
   ]
  },
  {
   "cell_type": "code",
   "execution_count": 19,
   "id": "bc697089",
   "metadata": {},
   "outputs": [
    {
     "data": {
      "text/plain": [
       "<matplotlib.collections.PathCollection at 0x7f9450e3f040>"
      ]
     },
     "execution_count": 19,
     "metadata": {},
     "output_type": "execute_result"
    },
    {
     "data": {
      "image/png": "[encoded data removed]",
      "text/plain": [
       "<Figure size 432x288 with 1 Axes>"
      ]
     },
     "metadata": {
      "needs_background": "light"
     },
     "output_type": "display_data"
    }
   ],
   "source": [
    "plt.scatter(matrix_red[labels == genre, 0], matrix_red[labels == genre, 1])"
   ]
  },
  {
   "cell_type": "code",
   "execution_count": 20,
   "id": "bc5ad41d",
   "metadata": {},
   "outputs": [
    {
     "name": "stdout",
     "output_type": "stream",
     "text": [
      "Most similar genres to hip hop: \n",
      "pop rap\n",
      "dance pop\n",
      "teen pop\n",
      "italian disco\n",
      "europop\n"
     ]
    }
   ],
   "source": [
    "# Identify genres in the top 50 that are most similar\n",
    "\n",
    "def cosine_distance(g1, g2):\n",
    "    avg_genre_1 = np.mean(matrix[labels == g1], axis=0)\n",
    "    avg_genre_2 = np.mean(matrix[labels == g2], axis=0)\n",
    "    return np.round(scipy.spatial.distance.cosine(avg_genre_1, avg_genre_2), 4)\n",
    "\n",
    "distances = []\n",
    "for g in genres_50:\n",
    "    distances.append(cosine_distance(genre, g))\n",
    "\n",
    "K = 6\n",
    "res = sorted(range(len(distances)), key = lambda sub: distances[sub])[:K]\n",
    "print('Most similar genres to ' + genre + ': ')\n",
    "for i in res[1:]:\n",
    "    print(list(genres_50)[i])"
   ]
  },
  {
   "cell_type": "code",
   "execution_count": 21,
   "id": "25c80910",
   "metadata": {},
   "outputs": [
    {
     "name": "stdout",
     "output_type": "stream",
     "text": [
      "Most different genres to hip hop: \n",
      "classical\n",
      "orchestra\n",
      "opera\n",
      "honky tonk\n",
      "heavy metal\n"
     ]
    }
   ],
   "source": [
    "# Identify genres in the top 50 that are most different\n",
    "\n",
    "K = 6\n",
    "res = sorted(range(len(distances)), key = lambda sub: 1-distances[sub])[:K]\n",
    "print('Most different genres to ' + genre + ': ')\n",
    "for i in res[1:]:\n",
    "    print(list(genres_50)[i])"
   ]
  },
  {
   "cell_type": "markdown",
   "id": "87dc58d3",
   "metadata": {},
   "source": [
    "# Finding directions that capture cultural concepts\n",
    "\n",
    "We can also find directions in this embedding space that specific concepts. For instance, we can:\n",
    "\n",
    "1. get 10 dance-pop songs and 10 classical songs at random; and\n",
    "2. find the direction that connects these songs in the latent space;\n",
    "\n",
    "Then, we obtain a pop-to-classical dimension!"
   ]
  },
  {
   "cell_type": "code",
   "execution_count": 22,
   "id": "25623680",
   "metadata": {},
   "outputs": [
    {
     "data": {
      "text/plain": [
       "array([-0.22768542,  0.7038114 ,  0.12573288, -0.45013154,  0.05201823,\n",
       "       -0.4986701 , -0.25143322, -0.16320103,  0.15008506,  1.518119  ,\n",
       "       -0.03652236,  0.3263729 ,  1.6384163 , -0.10197072, -0.5684476 ,\n",
       "        0.349621  ,  0.3130905 , -0.03259359, -0.24284372, -0.9244533 ,\n",
       "        0.34683406, -0.66050655, -0.4542923 ,  0.30777916, -1.2033869 ,\n",
       "        0.8782921 , -0.0177705 , -0.43704838,  0.252923  , -0.42306107,\n",
       "       -0.18101001, -0.3427562 , -0.32924092,  0.84625274, -0.09520827,\n",
       "       -0.01579109, -1.2934986 , -0.3179969 ,  0.26685065,  0.3249407 ,\n",
       "        0.40294048, -0.36735326,  0.5336869 , -0.14677222,  1.4050361 ,\n",
       "       -0.2831515 ,  0.00228691, -0.12591013,  1.5792587 ,  0.42635047,\n",
       "        0.4399443 , -0.8435118 ,  0.30881074, -0.75263065,  0.5784111 ,\n",
       "        0.8137442 ,  0.2688002 , -0.28528976, -0.57270175, -0.29604214,\n",
       "       -0.29960155,  0.86175734,  0.24991557, -0.73709667, -1.1518217 ,\n",
       "        0.24954095, -0.7909342 , -0.5675037 , -0.05335023, -0.5005233 ,\n",
       "        0.04583983, -0.11824135, -0.4126004 ,  0.20948477, -0.46566412,\n",
       "        0.8932979 ,  0.396097  ,  1.0155067 ,  0.7949803 , -0.35107788,\n",
       "       -0.22501722,  0.07123057,  1.2645868 , -0.7681644 ,  0.03664812,\n",
       "        0.00650333, -1.7579551 ,  0.04543189,  0.50156844,  0.19302008,\n",
       "        0.52311015,  0.17057782,  0.52421546,  0.74051225, -0.18586679,\n",
       "        0.17038475,  1.0178006 ,  0.10298998,  0.25699624,  0.19196884],\n",
       "      dtype=float32)"
      ]
     },
     "execution_count": 22,
     "metadata": {},
     "output_type": "execute_result"
    }
   ],
   "source": [
    "np.random.seed(1)\n",
    "techno_ids = list(df[df[\"tag_echo\"] == \"dance pop\"][\"id\"].sample(10))\n",
    "classic_ids = list(df[df[\"tag_echo\"] == \"classical\"][\"id\"].sample(10))\n",
    "\n",
    "def normalize(vector):\n",
    "    normalized_vector = vector / np.linalg.norm(vector)\n",
    "    return normalized_vector\n",
    "\n",
    "def dimension(model, positives, negatives):\n",
    "    diff = sum([normalize(model[x]) for x in positives if x in emb])\\\n",
    "            - sum([normalize(model[y]) for y in negatives if x in emb])\n",
    "    return diff\n",
    "\n",
    "pop_classical = dimension(emb, techno_ids, classic_ids)\n",
    "pop_classical\n"
   ]
  },
  {
   "cell_type": "markdown",
   "id": "d8e817b8",
   "metadata": {},
   "source": [
    "We can then get 7 rock songs at random and see how they score in this \"pop-to-classic\" scale"
   ]
  },
  {
   "cell_type": "code",
   "execution_count": 23,
   "id": "e8713aa4",
   "metadata": {},
   "outputs": [
    {
     "data": {
      "image/png": "[encoded data removed]",
      "text/plain": [
       "<Figure size 864x432 with 1 Axes>"
      ]
     },
     "metadata": {},
     "output_type": "display_data"
    }
   ],
   "source": [
    "import sklearn\n",
    "\n",
    "def makeDF(model, word_list, dimension):\n",
    "    g = []\n",
    "    song_infos = []\n",
    "    ids = []\n",
    "    for word in word_list:\n",
    "        if word not in model:\n",
    "            continue\n",
    "        song_info = df[df[\"id\"] == word][[\"song_name\", \"tag_echo\"]]\n",
    "        song_infos.append(tuple(song_info.values[0]))\n",
    "        g.append(sklearn.metrics.pairwise.cosine_similarity(model[word].reshape(1,-1),\n",
    "                                                            pop_classical.reshape(1,-1))[0][0])\n",
    "        ids.append(word)\n",
    "    df_ = pd.DataFrame({'score': g, \"id\": ids}, index=song_infos)\n",
    "    return df_\n",
    "\n",
    "def Coloring(series):\n",
    "    x = series.values\n",
    "    y = x-x.min()\n",
    "    z = y/y.max()\n",
    "    c = list(plt.cm.rainbow(z))\n",
    "    return c\n",
    "\n",
    "def PlotDimension(ax, df, dim):\n",
    "    ax.set_title(dim, fontsize = 20)\n",
    "    colors = Coloring(df[dim])\n",
    "    for i, word in enumerate(df.index):\n",
    "        ax.annotate(word, (0.5, df[dim][i]), color = colors[i], alpha = 0.6, fontsize = 12, ha=\"center\")\n",
    "    d = df[dim].max() - df[dim].min()\n",
    "    MaxY = df[dim].max() + d/10 \n",
    "    MinY = df[dim].min() - d/10\n",
    "    plt.ylim(MinY,MaxY)\n",
    "    plt.yticks(())\n",
    "    plt.xticks(())\n",
    "\n",
    "np.random.seed(7)\n",
    "technoclassic_df = makeDF(emb, df[df[\"tag_echo\"] == \"rock\"][\"id\"].sample(7), dimension=pop_classical) \n",
    "\n",
    "fig = plt.figure(figsize = (12,6))\n",
    "ax1 = fig.add_subplot(111)\n",
    "PlotDimension(ax1, technoclassic_df, 'score')"
   ]
  },
  {
   "cell_type": "markdown",
   "id": "d6fb8b3f",
   "metadata": {},
   "source": [
    "We find that the most classic song is \"Sister Moon\" by Sting, a melancholic piece featuring a sax and string instruments. Meanwhile, the most pop-like is Bon Jovi's It's My Life, a highly danceable song!"
   ]
  },
  {
   "cell_type": "code",
   "execution_count": 24,
   "id": "9e3a785f",
   "metadata": {
    "scrolled": false
   },
   "outputs": [
    {
     "data": {
      "text/html": [
       "<h2>Most classic-like</h2>"
      ],
      "text/plain": [
       "<IPython.core.display.HTML object>"
      ]
     },
     "metadata": {},
     "output_type": "display_data"
    },
    {
     "data": {
      "image/jpeg": "[encoded data removed]",
      "text/html": [
       "\n",
       "        <iframe\n",
       "            width=\"800\"\n",
       "            height=\"300\"\n",
       "            src=\"https://www.youtube.com/embed/TS0oP1FkGFA\"\n",
       "            frameborder=\"0\"\n",
       "            allowfullscreen\n",
       "        ></iframe>\n",
       "        "
      ],
      "text/plain": [
       "<IPython.lib.display.YouTubeVideo at 0x7f9450ebed00>"
      ]
     },
     "metadata": {},
     "output_type": "display_data"
    },
    {
     "data": {
      "text/html": [
       "<h2>Most pop-like</h2>"
      ],
      "text/plain": [
       "<IPython.core.display.HTML object>"
      ]
     },
     "metadata": {},
     "output_type": "display_data"
    },
    {
     "data": {
      "image/jpeg": "[encoded data removed]",
      "text/html": [
       "\n",
       "        <iframe\n",
       "            width=\"800\"\n",
       "            height=\"300\"\n",
       "            src=\"https://www.youtube.com/embed/vx2u5uUu3DE\"\n",
       "            frameborder=\"0\"\n",
       "            allowfullscreen\n",
       "        ></iframe>\n",
       "        "
      ],
      "text/plain": [
       "<IPython.lib.display.YouTubeVideo at 0x7f948da1afd0>"
      ]
     },
     "metadata": {},
     "output_type": "display_data"
    }
   ],
   "source": [
    "from IPython.display import YouTubeVideo\n",
    "from IPython.display import HTML\n",
    "\n",
    "display(HTML(\"<h2>Most classic-like</h2>\"))\n",
    "display(YouTubeVideo('TS0oP1FkGFA', width=800, height=300))\n",
    "display(HTML(\"<h2>Most pop-like</h2>\"))\n",
    "display(YouTubeVideo('vx2u5uUu3DE', width=800, height=300))"
   ]
  },
  {
   "cell_type": "markdown",
   "id": "119479a5",
   "metadata": {},
   "source": [
    "# Billy Joel trajectory"
   ]
  },
  {
   "cell_type": "markdown",
   "id": "7c9ab317",
   "metadata": {},
   "source": [
    "Last, we use our embedding to examine the musical trajectory of one of our favorite artists, Billy Joel. We begin by fetching all of his songs in the dataset, which are spread through the 70s and 80s."
   ]
  },
  {
   "cell_type": "code",
   "execution_count": 25,
   "id": "4ac762ec",
   "metadata": {},
   "outputs": [
    {
     "data": {
      "text/html": [
       "<div>\n",
       "<style scoped>\n",
       "    .dataframe tbody tr th:only-of-type {\n",
       "        vertical-align: middle;\n",
       "    }\n",
       "\n",
       "    .dataframe tbody tr th {\n",
       "        vertical-align: top;\n",
       "    }\n",
       "\n",
       "    .dataframe thead th {\n",
       "        text-align: right;\n",
       "    }\n",
       "</style>\n",
       "<table border=\"1\" class=\"dataframe\">\n",
       "  <thead>\n",
       "    <tr style=\"text-align: right;\">\n",
       "      <th></th>\n",
       "      <th>song_name</th>\n",
       "      <th>decade</th>\n",
       "      <th>tag_echo</th>\n",
       "    </tr>\n",
       "  </thead>\n",
       "  <tbody>\n",
       "    <tr>\n",
       "      <th>9148</th>\n",
       "      <td>The Stranger</td>\n",
       "      <td>1970</td>\n",
       "      <td>soft rock</td>\n",
       "    </tr>\n",
       "    <tr>\n",
       "      <th>26793</th>\n",
       "      <td>52nd Street</td>\n",
       "      <td>1970</td>\n",
       "      <td>soft rock</td>\n",
       "    </tr>\n",
       "    <tr>\n",
       "      <th>25931</th>\n",
       "      <td>Scenes From An Italian Restaurant</td>\n",
       "      <td>1970</td>\n",
       "      <td>soft rock</td>\n",
       "    </tr>\n",
       "    <tr>\n",
       "      <th>17021</th>\n",
       "      <td>Piano Man</td>\n",
       "      <td>1970</td>\n",
       "      <td>soft rock</td>\n",
       "    </tr>\n",
       "    <tr>\n",
       "      <th>14183</th>\n",
       "      <td>New York State Of Mind</td>\n",
       "      <td>1970</td>\n",
       "      <td>soft rock</td>\n",
       "    </tr>\n",
       "    <tr>\n",
       "      <th>9821</th>\n",
       "      <td>Rosalinda's Eyes</td>\n",
       "      <td>1970</td>\n",
       "      <td>soft rock</td>\n",
       "    </tr>\n",
       "    <tr>\n",
       "      <th>7673</th>\n",
       "      <td>Prelude/Angry Young Man</td>\n",
       "      <td>1970</td>\n",
       "      <td>soft rock</td>\n",
       "    </tr>\n",
       "    <tr>\n",
       "      <th>30482</th>\n",
       "      <td>Honesty</td>\n",
       "      <td>1970</td>\n",
       "      <td>soft rock</td>\n",
       "    </tr>\n",
       "    <tr>\n",
       "      <th>4187</th>\n",
       "      <td>Big Shot</td>\n",
       "      <td>1970</td>\n",
       "      <td>soft rock</td>\n",
       "    </tr>\n",
       "    <tr>\n",
       "      <th>4146</th>\n",
       "      <td>Movin' Out (Anthony's Song)</td>\n",
       "      <td>1970</td>\n",
       "      <td>soft rock</td>\n",
       "    </tr>\n",
       "    <tr>\n",
       "      <th>29748</th>\n",
       "      <td>Storm Front</td>\n",
       "      <td>1980</td>\n",
       "      <td>soft rock</td>\n",
       "    </tr>\n",
       "    <tr>\n",
       "      <th>6057</th>\n",
       "      <td>Pressure</td>\n",
       "      <td>1980</td>\n",
       "      <td>soft rock</td>\n",
       "    </tr>\n",
       "    <tr>\n",
       "      <th>18581</th>\n",
       "      <td>Allentown</td>\n",
       "      <td>1980</td>\n",
       "      <td>soft rock</td>\n",
       "    </tr>\n",
       "    <tr>\n",
       "      <th>3774</th>\n",
       "      <td>Goodnight Saigon</td>\n",
       "      <td>1980</td>\n",
       "      <td>soft rock</td>\n",
       "    </tr>\n",
       "    <tr>\n",
       "      <th>2976</th>\n",
       "      <td>It's Still Rock And Roll To Me</td>\n",
       "      <td>1980</td>\n",
       "      <td>soft rock</td>\n",
       "    </tr>\n",
       "    <tr>\n",
       "      <th>26975</th>\n",
       "      <td>You're Only Human (Second Wind)</td>\n",
       "      <td>1980</td>\n",
       "      <td>soft rock</td>\n",
       "    </tr>\n",
       "    <tr>\n",
       "      <th>6111</th>\n",
       "      <td>We Didn't Start The Fire</td>\n",
       "      <td>1980</td>\n",
       "      <td>soft rock</td>\n",
       "    </tr>\n",
       "    <tr>\n",
       "      <th>525</th>\n",
       "      <td>Tempatation</td>\n",
       "      <td>1980</td>\n",
       "      <td>soft rock</td>\n",
       "    </tr>\n",
       "  </tbody>\n",
       "</table>\n",
       "</div>"
      ],
      "text/plain": [
       "                               song_name  decade   tag_echo\n",
       "9148                        The Stranger    1970  soft rock\n",
       "26793                        52nd Street    1970  soft rock\n",
       "25931  Scenes From An Italian Restaurant    1970  soft rock\n",
       "17021                          Piano Man    1970  soft rock\n",
       "14183             New York State Of Mind    1970  soft rock\n",
       "9821                    Rosalinda's Eyes    1970  soft rock\n",
       "7673             Prelude/Angry Young Man    1970  soft rock\n",
       "30482                            Honesty    1970  soft rock\n",
       "4187                            Big Shot    1970  soft rock\n",
       "4146         Movin' Out (Anthony's Song)    1970  soft rock\n",
       "29748                        Storm Front    1980  soft rock\n",
       "6057                            Pressure    1980  soft rock\n",
       "18581                          Allentown    1980  soft rock\n",
       "3774                    Goodnight Saigon    1980  soft rock\n",
       "2976      It's Still Rock And Roll To Me    1980  soft rock\n",
       "26975    You're Only Human (Second Wind)    1980  soft rock\n",
       "6111            We Didn't Start The Fire    1980  soft rock\n",
       "525                          Tempatation    1980  soft rock"
      ]
     },
     "execution_count": 25,
     "metadata": {},
     "output_type": "execute_result"
    }
   ],
   "source": [
    "tmp = df[df.artist_name_x == \"Billy Joel\"]\n",
    "tmp = tmp[tmp.year_x > 0].copy(deep=True)\n",
    "tmp[\"decade\"] = (tmp.year_x // 10 ) * 10\n",
    "tmp = tmp.drop_duplicates(\"song_name\")\n",
    "tmp[[\"song_name\", \"decade\", \"tag_echo\"]].sort_values(\"decade\")"
   ]
  },
  {
   "cell_type": "markdown",
   "id": "7e92a39d",
   "metadata": {},
   "source": [
    "Then, we calculate the average embedding position for the two decades, and proceed to plot it in our embedding space. \n",
    "We again plot the genre labels for comparison!"
   ]
  },
  {
   "cell_type": "code",
   "execution_count": 26,
   "id": "2c876de8",
   "metadata": {},
   "outputs": [
    {
     "data": {
      "text/plain": [
       "decade\n",
       "1970    [-0.100939736, 0.027260136]\n",
       "1980       [0.39011928, 0.15072693]\n",
       "Name: id, dtype: object"
      ]
     },
     "execution_count": 26,
     "metadata": {},
     "output_type": "execute_result"
    }
   ],
   "source": [
    "tmp = tmp.groupby(\"decade\")[\"id\"].apply(lambda xs: \n",
    "                                        np.mean([matrix_red[acc_ids.index(x)] for x in xs.values], axis=0))\n",
    "tmp"
   ]
  },
  {
   "cell_type": "code",
   "execution_count": 27,
   "id": "33cb7b6c",
   "metadata": {},
   "outputs": [
    {
     "name": "stdout",
     "output_type": "stream",
     "text": [
      "1970 [-0.10093974  0.02726014]\n",
      "1980 [0.39011928 0.15072693]\n"
     ]
    },
    {
     "data": {
      "image/png": "[encoded data removed]",
      "text/plain": [
       "<Figure size 864x720 with 1 Axes>"
      ]
     },
     "metadata": {
      "needs_background": "light"
     },
     "output_type": "display_data"
    }
   ],
   "source": [
    "fig, axs = plt.subplots(1, 1, figsize=(12,10))\n",
    "most_common = Counter(labels).most_common(60)\n",
    "\n",
    "for k, _ in most_common:\n",
    "    x = matrix_red[labels == k, 0].mean()\n",
    "    y = matrix_red[labels == k, 1].mean()\n",
    "    axs.scatter(x, y, label=k, alpha=0.6)\n",
    "    axs.text(x + 0.002, y + 0.002, s=k, ha=\"left\", color=\"gray\")\n",
    "\n",
    "for k, v in tmp.items():\n",
    "    print(k, v)\n",
    "    axs.scatter(v[0], v[1], label=k, marker = \"x\", color=\"black\", s=80)\n",
    "    axs.text(v[0] + 0.002, v[1] + 0.002,  s=str(k), ha=\"left\")\n",
    "\n",
    "\n",
    "plt.show()"
   ]
  },
  {
   "cell_type": "markdown",
   "id": "2150590c",
   "metadata": {},
   "source": [
    "The plot shows how Billy joel songs switched from ballad/chanson-like (like \n",
    "[Piano Man](https://www.youtube.com/watch?v=gxEPV4kolz0) and \n",
    "[New York State Of Mind](https://www.youtube.com/watch?v=ol0dPJdzm1M)) \n",
    "in the 1970s\n",
    "to closer to dance rock in the 1980s (like [We Didn't Start The Fire](https://www.youtube.com/watch?v=eFTLKWw542g))."
   ]
  }
 ],
 "metadata": {
  "kernelspec": {
   "display_name": "py38",
   "language": "python",
   "name": "py38"
  },
  "language_info": {
   "codemirror_mode": {
    "name": "ipython",
    "version": 3
   },
   "file_extension": ".py",
   "mimetype": "text/x-python",
   "name": "python",
   "nbconvert_exporter": "python",
   "pygments_lexer": "ipython3",
   "version": "3.8.5"
  }
 },
 "nbformat": 4,
 "nbformat_minor": 5
}
